{
 "cells": [
  {
   "cell_type": "code",
   "execution_count": 1,
   "id": "e148b8e0-b2b7-4fc7-af1e-3afe7ef5e874",
   "metadata": {},
   "outputs": [],
   "source": [
    "import pandas as pd # data manipulation\n",
    "import numpy as np # numerical computing\n",
    "\n",
    "import matplotlib.pyplot as plt\n",
    "import seaborn as sns\n",
    "import plotly.express as px\n",
    "\n",
    "import mysql.connector\n",
    "from mysql.connector import Error\n",
    "from IPython.display import clear_output"
   ]
  },
  {
   "cell_type": "code",
   "execution_count": 2,
   "id": "e7b92919-9508-493b-a071-352a41f9abe7",
   "metadata": {},
   "outputs": [
    {
     "name": "stdout",
     "output_type": "stream",
     "text": [
      "Requirement already satisfied: mysql-connector-python in c:\\users\\user\\anaconda3\\lib\\site-packages (9.0.0)\n"
     ]
    }
   ],
   "source": [
    "!pip install mysql-connector-python"
   ]
  },
  {
   "cell_type": "code",
   "execution_count": 7,
   "id": "88eb7f7b-0948-4735-baf4-38ef9ab6b1ba",
   "metadata": {},
   "outputs": [
    {
     "name": "stdout",
     "output_type": "stream",
     "text": [
      "Connected to database online_sales successfully\n"
     ]
    }
   ],
   "source": [
    "# set up the function for database connection\n",
    "\n",
    "def connect_database(user_name,host_name,db_name,db_password):\n",
    "    connection = None\n",
    "    try:\n",
    "        connection = mysql.connector.connect(\n",
    "            host = host_name,\n",
    "            user = user_name,\n",
    "            passwd = db_password,\n",
    "            database = db_name\n",
    "        )\n",
    "        print(f'Connected to database {db_name} successfully')\n",
    "\n",
    "    except Error as err:\n",
    "        print(f'Error: {err}')\n",
    "\n",
    "    return connection\n",
    "\n",
    "\n",
    "host_name = input()\n",
    "user_name = input()\n",
    "db_password = input()\n",
    "db_name =  input()\n",
    "\n",
    "clear_output()\n",
    "\n",
    "connection = connect_database(user_name,host_name,db_name,db_password)"
   ]
  },
  {
   "cell_type": "markdown",
   "id": "939be696-820f-46fe-9bec-ea2145ec1259",
   "metadata": {},
   "source": [
    "## Load and Preprocess the dataset"
   ]
  },
  {
   "cell_type": "code",
   "execution_count": 9,
   "id": "64e60f0e-08c5-4684-8a93-1437d7459686",
   "metadata": {},
   "outputs": [],
   "source": [
    "# create a streaming pipeline\n",
    "\n",
    "def read_query(query, connection):\n",
    "    result = None\n",
    "    cursor = connection.cursor()\n",
    "    try:\n",
    "        cursor.execute(query)\n",
    "        result = cursor.fetchall()\n",
    "    except Error as err:\n",
    "        print(f'Error: {err}')\n",
    "\n",
    "    return result\n"
   ]
  },
  {
   "cell_type": "code",
   "execution_count": 18,
   "id": "e5ccdf43-a80a-41bf-af0d-e8bcce0720c1",
   "metadata": {},
   "outputs": [
    {
     "data": {
      "text/html": [
       "<div>\n",
       "<style scoped>\n",
       "    .dataframe tbody tr th:only-of-type {\n",
       "        vertical-align: middle;\n",
       "    }\n",
       "\n",
       "    .dataframe tbody tr th {\n",
       "        vertical-align: top;\n",
       "    }\n",
       "\n",
       "    .dataframe thead th {\n",
       "        text-align: right;\n",
       "    }\n",
       "</style>\n",
       "<table border=\"1\" class=\"dataframe\">\n",
       "  <thead>\n",
       "    <tr style=\"text-align: right;\">\n",
       "      <th></th>\n",
       "      <th>Transaction_ID</th>\n",
       "      <th>Product_Category</th>\n",
       "      <th>Product_Name</th>\n",
       "      <th>Region</th>\n",
       "      <th>Payment_Method</th>\n",
       "      <th>Units_Sold</th>\n",
       "      <th>Unit_Price</th>\n",
       "      <th>Total_Revenue</th>\n",
       "      <th>Transaction_date</th>\n",
       "      <th>Month_of_transaction</th>\n",
       "    </tr>\n",
       "  </thead>\n",
       "  <tbody>\n",
       "    <tr>\n",
       "      <th>0</th>\n",
       "      <td>10001</td>\n",
       "      <td>Electronics</td>\n",
       "      <td>iPhone 14 Pro</td>\n",
       "      <td>North America</td>\n",
       "      <td>Credit Card</td>\n",
       "      <td>2.0</td>\n",
       "      <td>999.99</td>\n",
       "      <td>1999.98</td>\n",
       "      <td>2024-01-01</td>\n",
       "      <td>1</td>\n",
       "    </tr>\n",
       "    <tr>\n",
       "      <th>1</th>\n",
       "      <td>10002</td>\n",
       "      <td>Home Appliances</td>\n",
       "      <td>Dyson V11 Vacuum</td>\n",
       "      <td>Europe</td>\n",
       "      <td>PayPal</td>\n",
       "      <td>1.0</td>\n",
       "      <td>499.99</td>\n",
       "      <td>499.99</td>\n",
       "      <td>2024-01-02</td>\n",
       "      <td>1</td>\n",
       "    </tr>\n",
       "    <tr>\n",
       "      <th>2</th>\n",
       "      <td>10003</td>\n",
       "      <td>Clothing</td>\n",
       "      <td>Levis 501 Jeans</td>\n",
       "      <td>Asia</td>\n",
       "      <td>Debit Card</td>\n",
       "      <td>3.0</td>\n",
       "      <td>69.99</td>\n",
       "      <td>209.97</td>\n",
       "      <td>2024-01-03</td>\n",
       "      <td>1</td>\n",
       "    </tr>\n",
       "    <tr>\n",
       "      <th>3</th>\n",
       "      <td>10004</td>\n",
       "      <td>Books</td>\n",
       "      <td>The Da Vinci Code</td>\n",
       "      <td>North America</td>\n",
       "      <td>Credit Card</td>\n",
       "      <td>4.0</td>\n",
       "      <td>15.99</td>\n",
       "      <td>63.96</td>\n",
       "      <td>2024-01-04</td>\n",
       "      <td>1</td>\n",
       "    </tr>\n",
       "    <tr>\n",
       "      <th>4</th>\n",
       "      <td>10005</td>\n",
       "      <td>Beauty Products</td>\n",
       "      <td>Neutrogena Skincare Set</td>\n",
       "      <td>Europe</td>\n",
       "      <td>PayPal</td>\n",
       "      <td>1.0</td>\n",
       "      <td>89.99</td>\n",
       "      <td>89.99</td>\n",
       "      <td>2024-01-05</td>\n",
       "      <td>1</td>\n",
       "    </tr>\n",
       "    <tr>\n",
       "      <th>...</th>\n",
       "      <td>...</td>\n",
       "      <td>...</td>\n",
       "      <td>...</td>\n",
       "      <td>...</td>\n",
       "      <td>...</td>\n",
       "      <td>...</td>\n",
       "      <td>...</td>\n",
       "      <td>...</td>\n",
       "      <td>...</td>\n",
       "      <td>...</td>\n",
       "    </tr>\n",
       "    <tr>\n",
       "      <th>235</th>\n",
       "      <td>10236</td>\n",
       "      <td>Home Appliances</td>\n",
       "      <td>Nespresso Vertuo Next Coffee and Espresso Maker</td>\n",
       "      <td>Europe</td>\n",
       "      <td>PayPal</td>\n",
       "      <td>1.0</td>\n",
       "      <td>159.99</td>\n",
       "      <td>159.99</td>\n",
       "      <td>2024-08-23</td>\n",
       "      <td>8</td>\n",
       "    </tr>\n",
       "    <tr>\n",
       "      <th>236</th>\n",
       "      <td>10237</td>\n",
       "      <td>Clothing</td>\n",
       "      <td>Nike Air Force 1 Sneakers</td>\n",
       "      <td>Asia</td>\n",
       "      <td>Debit Card</td>\n",
       "      <td>3.0</td>\n",
       "      <td>90.00</td>\n",
       "      <td>270.00</td>\n",
       "      <td>2024-08-24</td>\n",
       "      <td>8</td>\n",
       "    </tr>\n",
       "    <tr>\n",
       "      <th>237</th>\n",
       "      <td>10238</td>\n",
       "      <td>Books</td>\n",
       "      <td>The Handmaids Tale by Margaret Atwood</td>\n",
       "      <td>North America</td>\n",
       "      <td>Credit Card</td>\n",
       "      <td>3.0</td>\n",
       "      <td>10.99</td>\n",
       "      <td>32.97</td>\n",
       "      <td>2024-08-25</td>\n",
       "      <td>8</td>\n",
       "    </tr>\n",
       "    <tr>\n",
       "      <th>238</th>\n",
       "      <td>10239</td>\n",
       "      <td>Beauty Products</td>\n",
       "      <td>Sunday Riley Luna Sleeping Night Oil</td>\n",
       "      <td>Europe</td>\n",
       "      <td>PayPal</td>\n",
       "      <td>1.0</td>\n",
       "      <td>55.00</td>\n",
       "      <td>55.00</td>\n",
       "      <td>2024-08-26</td>\n",
       "      <td>8</td>\n",
       "    </tr>\n",
       "    <tr>\n",
       "      <th>239</th>\n",
       "      <td>10240</td>\n",
       "      <td>Sports</td>\n",
       "      <td>Yeti Rambler 20 oz Tumbler</td>\n",
       "      <td>Asia</td>\n",
       "      <td>Credit Card</td>\n",
       "      <td>2.0</td>\n",
       "      <td>29.99</td>\n",
       "      <td>59.98</td>\n",
       "      <td>2024-08-27</td>\n",
       "      <td>8</td>\n",
       "    </tr>\n",
       "  </tbody>\n",
       "</table>\n",
       "<p>240 rows × 10 columns</p>\n",
       "</div>"
      ],
      "text/plain": [
       "     Transaction_ID Product_Category  \\\n",
       "0             10001      Electronics   \n",
       "1             10002  Home Appliances   \n",
       "2             10003         Clothing   \n",
       "3             10004            Books   \n",
       "4             10005  Beauty Products   \n",
       "..              ...              ...   \n",
       "235           10236  Home Appliances   \n",
       "236           10237         Clothing   \n",
       "237           10238            Books   \n",
       "238           10239  Beauty Products   \n",
       "239           10240           Sports   \n",
       "\n",
       "                                        Product_Name         Region  \\\n",
       "0                                      iPhone 14 Pro  North America   \n",
       "1                                   Dyson V11 Vacuum         Europe   \n",
       "2                                    Levis 501 Jeans           Asia   \n",
       "3                                  The Da Vinci Code  North America   \n",
       "4                            Neutrogena Skincare Set         Europe   \n",
       "..                                               ...            ...   \n",
       "235  Nespresso Vertuo Next Coffee and Espresso Maker         Europe   \n",
       "236                        Nike Air Force 1 Sneakers           Asia   \n",
       "237            The Handmaids Tale by Margaret Atwood  North America   \n",
       "238             Sunday Riley Luna Sleeping Night Oil         Europe   \n",
       "239                       Yeti Rambler 20 oz Tumbler           Asia   \n",
       "\n",
       "    Payment_Method  Units_Sold  Unit_Price  Total_Revenue Transaction_date  \\\n",
       "0      Credit Card         2.0      999.99        1999.98       2024-01-01   \n",
       "1           PayPal         1.0      499.99         499.99       2024-01-02   \n",
       "2       Debit Card         3.0       69.99         209.97       2024-01-03   \n",
       "3      Credit Card         4.0       15.99          63.96       2024-01-04   \n",
       "4           PayPal         1.0       89.99          89.99       2024-01-05   \n",
       "..             ...         ...         ...            ...              ...   \n",
       "235         PayPal         1.0      159.99         159.99       2024-08-23   \n",
       "236     Debit Card         3.0       90.00         270.00       2024-08-24   \n",
       "237    Credit Card         3.0       10.99          32.97       2024-08-25   \n",
       "238         PayPal         1.0       55.00          55.00       2024-08-26   \n",
       "239    Credit Card         2.0       29.99          59.98       2024-08-27   \n",
       "\n",
       "     Month_of_transaction  \n",
       "0                       1  \n",
       "1                       1  \n",
       "2                       1  \n",
       "3                       1  \n",
       "4                       1  \n",
       "..                    ...  \n",
       "235                     8  \n",
       "236                     8  \n",
       "237                     8  \n",
       "238                     8  \n",
       "239                     8  \n",
       "\n",
       "[240 rows x 10 columns]"
      ]
     },
     "execution_count": 18,
     "metadata": {},
     "output_type": "execute_result"
    }
   ],
   "source": [
    "\n",
    "online_sales_query= '''\n",
    "SELECT Transaction_ID,Product_Category, Product_Name, Region, Payment_Method, Units_Sold, Unit_Price, Total_Revenue, t_Date as Transaction_date,\n",
    "month(t_Date) as Month_of_transaction from sales;\n",
    "'''\n",
    "\n",
    "data = read_query(query=online_sales_query, connection=connection)\n",
    "\n",
    "data_list = []\n",
    "\n",
    "for row in data:\n",
    "    row = list(row)\n",
    "    data_list.append(row)\n",
    "\n",
    "online_sales_df = pd.DataFrame(data=data_list, columns=['Transaction_ID','Product_Category', 'Product_Name', 'Region', 'Payment_Method',\n",
    "                                                                'Units_Sold', 'Unit_Price', 'Total_Revenue', 'Transaction_date',\n",
    "                                                                 'Month_of_transaction'])\n",
    "online_sales_df"
   ]
  },
  {
   "cell_type": "markdown",
   "id": "5794a850-5d58-41d9-ad8f-1ef9a67c5913",
   "metadata": {},
   "source": [
    "# data cleaning\n",
    "\n",
    "1. drop transaction ID column\r",
    "2. \n",
    "Inspect and handle null value\n",
    "3.  \r\n",
    "handle data type inconsistencies"
   ]
  },
  {
   "cell_type": "code",
   "execution_count": 22,
   "id": "eb831b19-3f31-42fb-a3fe-0cc45249db4d",
   "metadata": {},
   "outputs": [],
   "source": [
    "# drop redundant columns\n",
    "\n",
    "online_sales_df.drop(columns=['Transaction_ID'], inplace=True)"
   ]
  },
  {
   "cell_type": "code",
   "execution_count": 26,
   "id": "6815068c-97e7-4c50-9c02-b1dcf51e9b44",
   "metadata": {},
   "outputs": [
    {
     "data": {
      "text/html": [
       "<div>\n",
       "<style scoped>\n",
       "    .dataframe tbody tr th:only-of-type {\n",
       "        vertical-align: middle;\n",
       "    }\n",
       "\n",
       "    .dataframe tbody tr th {\n",
       "        vertical-align: top;\n",
       "    }\n",
       "\n",
       "    .dataframe thead th {\n",
       "        text-align: right;\n",
       "    }\n",
       "</style>\n",
       "<table border=\"1\" class=\"dataframe\">\n",
       "  <thead>\n",
       "    <tr style=\"text-align: right;\">\n",
       "      <th></th>\n",
       "      <th>Product_Category</th>\n",
       "      <th>Product_Name</th>\n",
       "      <th>Region</th>\n",
       "      <th>Payment_Method</th>\n",
       "      <th>Units_Sold</th>\n",
       "      <th>Unit_Price</th>\n",
       "      <th>Total_Revenue</th>\n",
       "      <th>Transaction_date</th>\n",
       "      <th>Month_of_transaction</th>\n",
       "    </tr>\n",
       "  </thead>\n",
       "  <tbody>\n",
       "    <tr>\n",
       "      <th>0</th>\n",
       "      <td>Electronics</td>\n",
       "      <td>iPhone 14 Pro</td>\n",
       "      <td>North America</td>\n",
       "      <td>Credit Card</td>\n",
       "      <td>2.0</td>\n",
       "      <td>999.99</td>\n",
       "      <td>1999.98</td>\n",
       "      <td>2024-01-01</td>\n",
       "      <td>1</td>\n",
       "    </tr>\n",
       "    <tr>\n",
       "      <th>1</th>\n",
       "      <td>Home Appliances</td>\n",
       "      <td>Dyson V11 Vacuum</td>\n",
       "      <td>Europe</td>\n",
       "      <td>PayPal</td>\n",
       "      <td>1.0</td>\n",
       "      <td>499.99</td>\n",
       "      <td>499.99</td>\n",
       "      <td>2024-01-02</td>\n",
       "      <td>1</td>\n",
       "    </tr>\n",
       "    <tr>\n",
       "      <th>2</th>\n",
       "      <td>Clothing</td>\n",
       "      <td>Levis 501 Jeans</td>\n",
       "      <td>Asia</td>\n",
       "      <td>Debit Card</td>\n",
       "      <td>3.0</td>\n",
       "      <td>69.99</td>\n",
       "      <td>209.97</td>\n",
       "      <td>2024-01-03</td>\n",
       "      <td>1</td>\n",
       "    </tr>\n",
       "    <tr>\n",
       "      <th>3</th>\n",
       "      <td>Books</td>\n",
       "      <td>The Da Vinci Code</td>\n",
       "      <td>North America</td>\n",
       "      <td>Credit Card</td>\n",
       "      <td>4.0</td>\n",
       "      <td>15.99</td>\n",
       "      <td>63.96</td>\n",
       "      <td>2024-01-04</td>\n",
       "      <td>1</td>\n",
       "    </tr>\n",
       "    <tr>\n",
       "      <th>4</th>\n",
       "      <td>Beauty Products</td>\n",
       "      <td>Neutrogena Skincare Set</td>\n",
       "      <td>Europe</td>\n",
       "      <td>PayPal</td>\n",
       "      <td>1.0</td>\n",
       "      <td>89.99</td>\n",
       "      <td>89.99</td>\n",
       "      <td>2024-01-05</td>\n",
       "      <td>1</td>\n",
       "    </tr>\n",
       "  </tbody>\n",
       "</table>\n",
       "</div>"
      ],
      "text/plain": [
       "  Product_Category             Product_Name         Region Payment_Method  \\\n",
       "0      Electronics            iPhone 14 Pro  North America    Credit Card   \n",
       "1  Home Appliances         Dyson V11 Vacuum         Europe         PayPal   \n",
       "2         Clothing          Levis 501 Jeans           Asia     Debit Card   \n",
       "3            Books        The Da Vinci Code  North America    Credit Card   \n",
       "4  Beauty Products  Neutrogena Skincare Set         Europe         PayPal   \n",
       "\n",
       "   Units_Sold  Unit_Price  Total_Revenue Transaction_date  \\\n",
       "0         2.0      999.99        1999.98       2024-01-01   \n",
       "1         1.0      499.99         499.99       2024-01-02   \n",
       "2         3.0       69.99         209.97       2024-01-03   \n",
       "3         4.0       15.99          63.96       2024-01-04   \n",
       "4         1.0       89.99          89.99       2024-01-05   \n",
       "\n",
       "   Month_of_transaction  \n",
       "0                     1  \n",
       "1                     1  \n",
       "2                     1  \n",
       "3                     1  \n",
       "4                     1  "
      ]
     },
     "execution_count": 26,
     "metadata": {},
     "output_type": "execute_result"
    }
   ],
   "source": [
    "online_sales_df.head()"
   ]
  },
  {
   "cell_type": "code",
   "execution_count": 30,
   "id": "167bb8b2-39c3-426f-9b1e-e9f3b2af334e",
   "metadata": {},
   "outputs": [
    {
     "data": {
      "text/plain": [
       "Product_Category        0\n",
       "Product_Name            0\n",
       "Region                  0\n",
       "Payment_Method          0\n",
       "Units_Sold              0\n",
       "Unit_Price              0\n",
       "Total_Revenue           0\n",
       "Transaction_date        0\n",
       "Month_of_transaction    0\n",
       "dtype: int64"
      ]
     },
     "execution_count": 30,
     "metadata": {},
     "output_type": "execute_result"
    }
   ],
   "source": [
    "#inspect null values\n",
    "online_sales_df.isnull().sum()"
   ]
  },
  {
   "cell_type": "code",
   "execution_count": 34,
   "id": "ab5e4d57-8579-4e1e-b687-10e72a5eca94",
   "metadata": {},
   "outputs": [],
   "source": [
    "# change date datatype from object to datetime\n",
    "\n",
    "online_sales_df['Transaction_date'] = pd.to_datetime(online_sales_df['Transaction_date'])"
   ]
  },
  {
   "cell_type": "code",
   "execution_count": 38,
   "id": "89f3410d-b0a3-43e6-8725-17d40ea5575c",
   "metadata": {},
   "outputs": [
    {
     "name": "stdout",
     "output_type": "stream",
     "text": [
      "<class 'pandas.core.frame.DataFrame'>\n",
      "RangeIndex: 240 entries, 0 to 239\n",
      "Data columns (total 9 columns):\n",
      " #   Column                Non-Null Count  Dtype         \n",
      "---  ------                --------------  -----         \n",
      " 0   Product_Category      240 non-null    object        \n",
      " 1   Product_Name          240 non-null    object        \n",
      " 2   Region                240 non-null    object        \n",
      " 3   Payment_Method        240 non-null    object        \n",
      " 4   Units_Sold            240 non-null    float64       \n",
      " 5   Unit_Price            240 non-null    float64       \n",
      " 6   Total_Revenue         240 non-null    float64       \n",
      " 7   Transaction_date      240 non-null    datetime64[ns]\n",
      " 8   Month_of_transaction  240 non-null    int64         \n",
      "dtypes: datetime64[ns](1), float64(3), int64(1), object(4)\n",
      "memory usage: 17.0+ KB\n"
     ]
    }
   ],
   "source": [
    "online_sales_df.info() # check datatype"
   ]
  },
  {
   "cell_type": "markdown",
   "id": "1ef07ae2-885a-4b42-b521-4e7fc19bd07a",
   "metadata": {},
   "source": [
    "##  Exploratory Data Analysis "
   ]
  },
  {
   "cell_type": "code",
   "execution_count": 117,
   "id": "86b423ec-8816-4d54-bfad-93198dfafe3e",
   "metadata": {},
   "outputs": [
    {
     "data": {
      "text/plain": [
       "Text(0.5, 1.0, 'Total_Revenue vs Payment_Method')"
      ]
     },
     "execution_count": 117,
     "metadata": {},
     "output_type": "execute_result"
    },
    {
     "name": "stderr",
     "output_type": "stream",
     "text": [
      "C:\\Users\\USER\\anaconda3\\Lib\\site-packages\\IPython\\core\\events.py:82: UserWarning: Glyph 9 (\t) missing from current font.\n",
      "  func(*args, **kwargs)\n",
      "C:\\Users\\USER\\anaconda3\\Lib\\site-packages\\IPython\\core\\pylabtools.py:152: UserWarning: Glyph 9 (\t) missing from current font.\n",
      "  fig.canvas.print_figure(bytes_io, **kw)\n"
     ]
    },
    {
     "data": {
      "image/png": "[encoded data removed]",
      "text/plain": [
       "<Figure size 2000x700 with 2 Axes>"
      ]
     },
     "metadata": {},
     "output_type": "display_data"
    }
   ],
   "source": [
    "fig, axes = plt.subplots(nrows=1,ncols=2, figsize=(20,7))\n",
    "\n",
    "sns.barplot(data=online_sales_df, x = 'Region', y = 'Total_Revenue', ax = axes[0])\n",
    "sns.barplot(data=online_sales_df, x = 'Payment_Method', y = 'Total_Revenue', ax = axes[1])\n",
    "\n",
    "\n",
    "axes[0].set_title('Total_Revenue vs Region')\n",
    "axes[1].set_title('Total_Revenue vs Payment_Method')"
   ]
  },
  {
   "cell_type": "markdown",
   "id": "db5aa7ca-e567-460b-990c-a8bc2482ea4d",
   "metadata": {},
   "source": [
    "# Findings\n",
    "Total Revenue by Region\n",
    "\n",
    "The bar chart illustrates a significant difference in total revenue across different regions. North America demonstrates the highest total revenue, followed by Europe. Asia and the other regions exhibit lower revenue figures.\n",
    "\n",
    "Total Revenue by Payment Method\n",
    "\n",
    "The bar chart indicates variations in total revenue based on payment method. Credit card transactions generate the highest revenue, followed by PayPal. Debit card transactions contribute the least to total revenue.\n"
   ]
  },
  {
   "cell_type": "code",
   "execution_count": 91,
   "id": "9424cbaa-7f28-4921-936b-e68a46ee4089",
   "metadata": {},
   "outputs": [],
   "source": [
    "from scipy import stats\n",
    "from scipy.stats import f_oneway"
   ]
  },
  {
   "cell_type": "code",
   "execution_count": 84,
   "id": "b467fc6a-bcd4-446d-872d-b411751d7b67",
   "metadata": {},
   "outputs": [
    {
     "name": "stdout",
     "output_type": "stream",
     "text": [
      "       Units_Sold   Unit_Price  Total_Revenue     Transaction_date  \\\n",
      "count  240.000000   240.000000     240.000000                  240   \n",
      "mean     2.137500   235.641083     335.699000  2024-04-29 12:00:00   \n",
      "min      1.000000     6.500000       6.500000  2024-01-01 00:00:00   \n",
      "25%      1.000000    29.375000      62.965000  2024-02-29 18:00:00   \n",
      "50%      2.000000    89.990000     179.970000  2024-04-29 12:00:00   \n",
      "75%      3.000000   249.990000     399.225000  2024-06-28 06:00:00   \n",
      "max     10.000000  3899.990000    3899.990000  2024-08-27 00:00:00   \n",
      "std      1.300889   429.658297     485.804419                  NaN   \n",
      "\n",
      "       Month_of_transaction  \n",
      "count            240.000000  \n",
      "mean               4.458333  \n",
      "min                1.000000  \n",
      "25%                2.750000  \n",
      "50%                4.000000  \n",
      "75%                6.000000  \n",
      "max                8.000000  \n",
      "std                2.275560  \n"
     ]
    }
   ],
   "source": [
    "# Data Exploration\n",
    "print(online_sales_df.describe())  # Summary statistics"
   ]
  },
  {
   "cell_type": "code",
   "execution_count": 86,
   "id": "370fc745-c8e7-43c1-a7f9-6ee3f6d6a680",
   "metadata": {},
   "outputs": [
    {
     "data": {
      "text/plain": [
       "<Axes: >"
      ]
     },
     "execution_count": 86,
     "metadata": {},
     "output_type": "execute_result"
    },
    {
     "data": {
      "image/png": "[encoded data removed]",
      "text/plain": [
       "<Figure size 640x480 with 2 Axes>"
      ]
     },
     "metadata": {},
     "output_type": "display_data"
    }
   ],
   "source": [
    "# correlation\n",
    "\n",
    "corr_df = online_sales_df[['Units_Sold','Unit_Price','Total_Revenue']].corr(method='spearman')\n",
    "sns.heatmap(data=corr_df, annot=True)"
   ]
  },
  {
   "cell_type": "code",
   "execution_count": 88,
   "id": "620178ef-31f2-4a12-967d-5fe681d310b5",
   "metadata": {},
   "outputs": [
    {
     "name": "stdout",
     "output_type": "stream",
     "text": [
      "               Units_Sold  Unit_Price  Total_Revenue\n",
      "Units_Sold       1.000000   -0.307869      -0.180748\n",
      "Unit_Price      -0.307869    1.000000       0.929642\n",
      "Total_Revenue   -0.180748    0.929642       1.000000\n"
     ]
    }
   ],
   "source": [
    "# Select numerical columns\n",
    "numeric_cols = ['Units_Sold','Unit_Price','Total_Revenue']\n",
    "correlation_matrix = online_sales_df[numeric_cols].corr()\n",
    "\n",
    "# Display correlation matrix (consider using heatmap for visualization)\n",
    "print(correlation_matrix)"
   ]
  },
  {
   "cell_type": "markdown",
   "id": "b49d82a1-1c4b-4749-9d5b-b0a42f85ed85",
   "metadata": {},
   "source": [
    "# Findings\n",
    "\n",
    "The correlation analysis revealed two significant relationships:\n",
    "\n",
    "Negative correlation between Units Sold and Total Revenue: There is a statistically significant negative association between the number of units sold \n",
    "and total revenue.This indicates that as the number of units sold increases, total revenue tends to decrease.\n",
    "\n",
    "Positive correlation between Unit Price and Total Revenue: A strong and statistically significant positive correlation exists between unit price and \n",
    "total revenue. This suggests that increasing the unit price is associated with an increase in total revenue."
   ]
  },
  {
   "cell_type": "code",
   "execution_count": 93,
   "id": "f74eda88-d836-4100-873c-de884d19fc5a",
   "metadata": {},
   "outputs": [],
   "source": [
    "# function\n",
    "\n",
    "def decision_rules(p_value, variables):\n",
    "    null = f'At p-value = {anova_results.pvalue}, there is no significant difference in groups'\n",
    "    alternative =f'At p-value = {anova_results.pvalue}, there is significant difference in groups'\n",
    "    if anova_results.pvalue < 0.05:\n",
    "        return alternative\n",
    "    else:\n",
    "        return null"
   ]
  },
  {
   "cell_type": "code",
   "execution_count": 95,
   "id": "4b65fe59-b6ec-47a5-a882-aee2c8594d70",
   "metadata": {},
   "outputs": [
    {
     "name": "stdout",
     "output_type": "stream",
     "text": [
      "ANOVA F-statistic: 13.892621411547049\n",
      "ANOVA p-value: 8.549505946079886e-18\n",
      "At p-value = 8.549505946079886e-18, there is significant difference in groups\n"
     ]
    }
   ],
   "source": [
    "# one way anova test for difference in Product_Category vs 'Total_Revenue\n",
    "\n",
    "df = pd.DataFrame(online_sales_df)\n",
    "\n",
    "# group data by Product_Category\n",
    "groups = df.groupby('Product_Category')['Total_Revenue'].apply(list)\n",
    "\n",
    "# one way anova\n",
    "anova_results = f_oneway(*groups)\n",
    "\n",
    "\n",
    "print('ANOVA F-statistic:',anova_results.statistic)\n",
    "print('ANOVA p-value:',anova_results.pvalue)\n",
    "print(decision_rules(anova_results.pvalue,[groups]))"
   ]
  },
  {
   "cell_type": "markdown",
   "id": "09e0a86c-c6ff-4bd3-8cfa-90a84e58ab57",
   "metadata": {},
   "source": [
    "# Findings\n",
    "\n",
    "The One-Way ANOVA analysis indicates a statistically significant difference in Total Revenue across different Product Categories. \n",
    "This finding suggests that the type of product being sold has a substantial impact on the overall revenue generated."
   ]
  },
  {
   "cell_type": "code",
   "execution_count": 98,
   "id": "7435607e-8c94-42f4-ba32-7fc741783465",
   "metadata": {},
   "outputs": [
    {
     "name": "stdout",
     "output_type": "stream",
     "text": [
      "ANOVA F-statistic: 4.537098903479672\n",
      "ANOVA p-value: 0.011650612550207197\n",
      "At p-value = 0.011650612550207197, there is significant difference in groups\n"
     ]
    }
   ],
   "source": [
    "# one way anova test for difference in claim shipping company vs late delivery days\n",
    "\n",
    "df = pd.DataFrame(online_sales_df)\n",
    "\n",
    "# group data by country\n",
    "groups = df.groupby('Payment_Method')['Total_Revenue'].apply(list)\n",
    "\n",
    "# one way anova\n",
    "anova_results = f_oneway(*groups)\n",
    "\n",
    "\n",
    "print('ANOVA F-statistic:',anova_results.statistic)\n",
    "print('ANOVA p-value:',anova_results.pvalue)\n",
    "print(decision_rules(anova_results.pvalue,[groups]))"
   ]
  },
  {
   "cell_type": "markdown",
   "id": "d210de5b-6ee6-45aa-a4b2-bdb8a204f20a",
   "metadata": {},
   "source": [
    "# Findings\n",
    "\n",
    "The analysis indicates a strong association between Payment Method and Total Revenue. \n",
    "This suggests that the chosen payment method significantly influences the overall revenue generated"
   ]
  },
  {
   "cell_type": "markdown",
   "id": "3358d9dc-cfc2-4f7d-a919-6b5cd7c286a7",
   "metadata": {},
   "source": [
    "# General Findings\n",
    "\n",
    "The analysis reveals several key factors influencing total revenue:\n",
    "\n",
    "Geographic Location: Total revenue varies significantly across different regions, with North America demonstrating the highest performance.\n",
    "    \n",
    "Product Category: The type of product sold has a substantial impact on total revenue, indicating variations in product profitability.\n",
    "    \n",
    "Pricing Strategy: A positive correlation between unit price and total revenue suggests that pricing decisions influence overall revenue.\n",
    "    \n",
    "Sales Volume: A negative correlation between units sold and total revenue indicates a complex relationship between sales volume and revenue generation.\n",
    "    \n",
    "Payment Method: The chosen payment method affects total revenue, with credit card transactions generating the highest income."
   ]
  },
  {
   "cell_type": "markdown",
   "id": "f180cb37-e9bf-4e38-b997-5b3053406fbe",
   "metadata": {},
   "source": [
    "# Recommendations:\n",
    "\n",
    "Market Expansion: Develop strategies to boost revenue in underperforming regions, particularly Asia and other markets.\n",
    "\n",
    "Product Category Optimization: Focus on high-revenue product categories while improving performance in lower-performing categories.\n",
    "\n",
    "Payment Method Promotion: Encourage the use of credit cards and PayPal by offering incentives or improving the user experience for these payment methods. Explore partnerships with local payment providers in each region to cater to regional preferences.\n",
    "\n",
    "Unit Price Optimization: Explore opportunities to increase unit prices where possible, given the strong positive correlation with revenue.\n",
    "\n",
    "Customer Feedback and Engagement:   Collect customer feedback on payment methods and product preferences to continuously improve the shopping experience   Engage with customers through personalized recommendations and offers based on their purchase history and region.\r\n"
   ]
  },
  {
   "cell_type": "code",
   "execution_count": null,
   "id": "36df81f2-0e5c-4edd-abee-5ea1de51fec0",
   "metadata": {},
   "outputs": [],
   "source": []
  }
 ],
 "metadata": {
  "kernelspec": {
   "display_name": "Python 3 (ipykernel)",
   "language": "python",
   "name": "python3"
  },
  "language_info": {
   "codemirror_mode": {
    "name": "ipython",
    "version": 3
   },
   "file_extension": ".py",
   "mimetype": "text/x-python",
   "name": "python",
   "nbconvert_exporter": "python",
   "pygments_lexer": "ipython3",
   "version": "3.11.7"
  }
 },
 "nbformat": 4,
 "nbformat_minor": 5
}
